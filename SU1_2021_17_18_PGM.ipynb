{
  "cells": [
    {
      "cell_type": "markdown",
      "metadata": {
        "id": "_WA0DqbXbmny"
      },
      "source": [
        "Sveučilište u Zagrebu  \n",
        "Fakultet elektrotehnike i računarstva  \n",
        "  \n",
        "## Strojno učenje 1 2021/2022\n",
        "http://www.fer.unizg.hr/predmet/struce1"
      ]
    },
    {
      "cell_type": "markdown",
      "metadata": {
        "id": "OGmBhWpebmov"
      },
      "source": [
        "------------------------------\n",
        "\n",
        "### Probabilistički grafički modeli\n",
        "\n",
        "*Verzija: 1.0  \n",
        "Zadnji put ažurirano: 6. siječnja 2021.*\n",
        "\n",
        "(c) 2015-2021 Jan Šnajder, Domagoj Alagić  \n",
        "\n",
        "Rok za predaju: **9. siječnja 2021. u 23:59h**\n",
        "\n",
        "------------------------------"
      ]
    },
    {
      "cell_type": "markdown",
      "metadata": {
        "id": "HVcdiE_Nbmoy"
      },
      "source": [
        "### Upute\n",
        "\n",
        "Ova laboratorijska vježba sastoji se od dva zadatka. U nastavku slijedite upute navedene u ćelijama s tekstom. Rješavanje vježbe svodi se na **dopunjavanje ove bilježnice**: umetanja ćelije ili više njih **ispod** teksta zadatka, pisanja odgovarajućeg kôda te evaluiranja ćelija. \n",
        "\n",
        "Osigurajte da u potpunosti **razumijete** kôd koji ste napisali. Kod predaje vježbe, morate biti u stanju na zahtjev asistenta (ili demonstratora) preinačiti i ponovno evaluirati Vaš kôd. Nadalje, morate razumjeti teorijske osnove onoga što radite, u okvirima onoga što smo obradili na predavanju. Ispod nekih zadataka možete naći i pitanja koja služe kao smjernice za bolje razumijevanje gradiva (**nemojte pisati** odgovore na pitanja u bilježnicu). Stoga se nemojte ograničiti samo na to da riješite zadatak, nego slobodno eksperimentirajte. To upravo i jest svrha ovih vježbi.\n",
        "\n",
        "Vježbe trebate raditi **samostalno**. Možete se konzultirati s drugima o načelnom načinu rješavanja, ali u konačnici morate sami odraditi vježbu. U protivnome vježba nema smisla."
      ]
    },
    {
      "cell_type": "code",
      "execution_count": 1,
      "metadata": {
        "colab": {
          "base_uri": "https://localhost:8080/"
        },
        "id": "VFYnByMGbmo0",
        "outputId": "469b03a6-da30-4970-8417-e2dc16782779"
      },
      "outputs": [
        {
          "output_type": "stream",
          "name": "stdout",
          "text": [
            "Populating the interactive namespace from numpy and matplotlib\n"
          ]
        }
      ],
      "source": [
        "# Učitaj osnovne biblioteke...\n",
        "import sklearn\n",
        "from sklearn.metrics import silhouette_samples, silhouette_score\n",
        "import numpy as np\n",
        "import matplotlib.pyplot as plt\n",
        "import pgmpy as pgm\n",
        "%pylab inline"
      ]
    },
    {
      "cell_type": "markdown",
      "metadata": {
        "id": "lyR_BUVRbmo3"
      },
      "source": [
        "### 1. Probabilistički grafički modeli -- Bayesove mreže"
      ]
    },
    {
      "cell_type": "markdown",
      "metadata": {
        "id": "5h2XD8Jzbmo5"
      },
      "source": [
        "Ovaj zadatak bavit će se Bayesovim mrežama, jednim od poznatijih probabilističkih grafičkih modela (*probabilistic graphical models*; PGM). Za lakše eksperimentiranje koristit ćemo programski paket [`pgmpy`](https://github.com/pgmpy/pgmpy). Molimo Vas da provjerite imate li ovaj paket te da ga instalirate ako ga nemate. Upute se nalaze na gornjoj poveznici. Za korisnike Anaconde, najlakše je upisati `conda install -c ankurankan pgmpy` (ili `pip install pgmpy` ako ne prolazi) unutar Anaconda Prompta (i ponovno pokrenuti Jupyter)."
      ]
    },
    {
      "cell_type": "markdown",
      "metadata": {
        "id": "LiZwCY1Ibmo6"
      },
      "source": [
        "Prvo ćemo pogledati udžbenički primjer s prskalicom. U ovom primjeru razmatramo Bayesovu mrežu koja modelira zavisnosti između oblačnosti (slučajna varijabla $C$), kiše ($R$), prskalice ($S$) i mokre trave ($W$). U ovom primjeru također pretpostavljamo da već imamo parametre vjerojatnosnih distribucija svih čvorova. Ova mreža prikazana je na sljedećoj slici:"
      ]
    },
    {
      "cell_type": "markdown",
      "metadata": {
        "id": "pltE0utabmo8"
      },
      "source": [
        "![This](http://www.fer.unizg.hr/_download/repository/bayes-net-sprinkler.jpg)"
      ]
    },
    {
      "cell_type": "markdown",
      "metadata": {
        "id": "AsibWff0bmo-"
      },
      "source": [
        "Koristeći paket `pgmpy`, konstruirajte Bayesovu mrežu iz gornjeg primjera. Zatim, koristeći **egzaktno** zaključivanje, postavite sljedeće posteriorne upite: $P(w=1)$, $P(s=1|w=1)$, $P(r=1|w=1)$, $P(c=1|s=1, r=1)$ i $P(c=1)$. Provedite zaključivanje na papiru i uvjerite se da ste ispravno konstruirali mrežu. Pomoći će vam službena dokumentacija te primjeri korištenja (npr. [ovaj](https://github.com/pgmpy/pgmpy/blob/dev/examples/Monty%20Hall%20Problem.ipynb))."
      ]
    },
    {
      "cell_type": "code",
      "execution_count": 2,
      "metadata": {
        "collapsed": true,
        "id": "o3WK6KB7bmpB",
        "colab": {
          "base_uri": "https://localhost:8080/"
        },
        "outputId": "b1af19b1-1086-433b-b157-be6e155c617c"
      },
      "outputs": [
        {
          "output_type": "stream",
          "name": "stderr",
          "text": [
            "/usr/local/lib/python3.7/dist-packages/statsmodels/tools/_testing.py:19: FutureWarning: pandas.util.testing is deprecated. Use the functions in the public API at pandas.testing instead.\n",
            "  import pandas.util.testing as tm\n"
          ]
        }
      ],
      "source": [
        "from pgmpy.models import BayesianNetwork\n",
        "from pgmpy.factors.discrete.CPD import TabularCPD\n",
        "from pgmpy.inference import VariableElimination"
      ]
    },
    {
      "cell_type": "code",
      "execution_count": 3,
      "metadata": {
        "colab": {
          "base_uri": "https://localhost:8080/"
        },
        "id": "alsUa0pmbmpC",
        "outputId": "61bc9df1-a923-478c-8724-0549be250ca7"
      },
      "outputs": [
        {
          "output_type": "stream",
          "name": "stdout",
          "text": [
            "+------+----------+\n",
            "| W    |   phi(W) |\n",
            "+======+==========+\n",
            "| W(0) |   0.3529 |\n",
            "+------+----------+\n",
            "| W(1) |   0.6471 |\n",
            "+------+----------+\n",
            "+------+----------+\n",
            "| S    |   phi(S) |\n",
            "+======+==========+\n",
            "| S(0) |   0.5702 |\n",
            "+------+----------+\n",
            "| S(1) |   0.4298 |\n",
            "+------+----------+\n",
            "+------+----------+\n",
            "| R    |   phi(R) |\n",
            "+======+==========+\n",
            "| R(0) |   0.2921 |\n",
            "+------+----------+\n",
            "| R(1) |   0.7079 |\n",
            "+------+----------+\n",
            "+------+----------+\n",
            "| C    |   phi(C) |\n",
            "+======+==========+\n",
            "| C(0) |   0.5556 |\n",
            "+------+----------+\n",
            "| C(1) |   0.4444 |\n",
            "+------+----------+\n",
            "+------+----------+\n",
            "| C    |   phi(C) |\n",
            "+======+==========+\n",
            "| C(0) |   0.5000 |\n",
            "+------+----------+\n",
            "| C(1) |   0.5000 |\n",
            "+------+----------+\n"
          ]
        }
      ],
      "source": [
        "model = BayesianNetwork([('C', 'S'), ('C', 'R'), ('S', 'W'), ('R', 'W')])\n",
        "\n",
        "cpd_c = TabularCPD('C', 2, [[0.5], [0.5]])\n",
        "cpd_s = TabularCPD('S', 2, [[0.5, 0.9], [0.5, 0.1]], evidence=['C'], evidence_card=[2])\n",
        "cpd_r = TabularCPD('R', 2, [[0.8, 0.2], [0.2, 0.8]], evidence=['C'], evidence_card=[2])\n",
        "cpd_w = TabularCPD('W', 2, [[1.0, 0.1, 0.1, 0.01], [0.0, 0.9, 0.9, 0.99]], evidence=['S', 'R'], evidence_card=[2, 2])\n",
        "\n",
        "model.add_cpds(cpd_c, cpd_s, cpd_r, cpd_w)\n",
        "model.check_model()\n",
        "\n",
        "inf = VariableElimination(model)\n",
        "\n",
        "p_w = inf.query(['W'], show_progress=False)\n",
        "p_s_cond_w = inf.query(['S'], evidence={'W': 1}, show_progress=False)\n",
        "p_r_cond_w = inf.query(['R'], evidence={'W': 1}, show_progress=False)\n",
        "p_c_cond_s_r = inf.query(['C'], evidence={'S': 1, 'R': 1}, show_progress=False)\n",
        "p_c = inf.query(['C'], show_progress=False)\n",
        "\n",
        "print(p_w)\n",
        "print(p_s_cond_w)\n",
        "print(p_r_cond_w)\n",
        "print(p_c_cond_s_r)\n",
        "print(p_c)"
      ]
    },
    {
      "cell_type": "markdown",
      "metadata": {
        "id": "XdmmjQPfbmpD"
      },
      "source": [
        "**Q:** Koju zajedničku vjerojatnosnu razdiobu ova mreža modelira? Kako tu informaciju očitati iz mreže?  \n",
        "**Q:** U zadatku koristimo egzaktno zaključivanje. Kako ono radi?  \n",
        "**Q:** Koja je razlika između posteriornog upita i MAP-upita?  \n",
        "**Q:** Zašto je vjerojatnost $P(c=1)$ drugačija od $P(c=1|s=1,r=1)$ ako znamo da čvorovi $S$ i $R$ nisu roditelji čvora $C$?"
      ]
    },
    {
      "cell_type": "markdown",
      "metadata": {
        "id": "IdFUzwEYbmpE"
      },
      "source": [
        "### 2. Efekt objašnjavanja"
      ]
    },
    {
      "cell_type": "markdown",
      "metadata": {
        "id": "8Ru0-yBPbmpG"
      },
      "source": [
        " **Efekt objašnjavanja** (engl. *explaining away*) zanimljiv je fenomen u kojem se događa da se dvije varijable \"natječu\" za objašnjavanje treće. Ovaj fenomen može se primijetiti na gornjoj mreži. U tom se slučaju varijable prskalice ($S$) i kiše ($R$) \"natječu\" za objašnjavanje mokre trave ($W$). Vaš zadatak je pokazati da se fenomen zaista događa."
      ]
    },
    {
      "cell_type": "code",
      "execution_count": 4,
      "metadata": {
        "colab": {
          "base_uri": "https://localhost:8080/"
        },
        "id": "n9G21y2qbmpG",
        "outputId": "39612e21-5bbd-46b1-f23b-62ac315ef782"
      },
      "outputs": [
        {
          "output_type": "stream",
          "name": "stdout",
          "text": [
            "+------+----------+\n",
            "| R    |   phi(R) |\n",
            "+======+==========+\n",
            "| R(0) |   0.2921 |\n",
            "+------+----------+\n",
            "| R(1) |   0.7079 |\n",
            "+------+----------+\n",
            "+------+----------+\n",
            "| R    |   phi(R) |\n",
            "+======+==========+\n",
            "| R(0) |   0.6796 |\n",
            "+------+----------+\n",
            "| R(1) |   0.3204 |\n",
            "+------+----------+ \n",
            "\n",
            "+------+----------+\n",
            "| S    |   phi(S) |\n",
            "+======+==========+\n",
            "| S(0) |   0.5702 |\n",
            "+------+----------+\n",
            "| S(1) |   0.4298 |\n",
            "+------+----------+\n",
            "+------+----------+\n",
            "| S    |   phi(S) |\n",
            "+======+==========+\n",
            "| S(0) |   0.8055 |\n",
            "+------+----------+\n",
            "| S(1) |   0.1945 |\n",
            "+------+----------+\n"
          ]
        }
      ],
      "source": [
        "print(inf.query(['R'], evidence={'W': 1}, show_progress=False))\n",
        "print(inf.query(['R'], evidence={'W': 1, 'S': 1}, show_progress=False), '\\n')\n",
        "\n",
        "print(inf.query(['S'], evidence={'W': 1}, show_progress=False))\n",
        "print(inf.query(['S'], evidence={'W': 1, 'R': 1}, show_progress=False))"
      ]
    },
    {
      "cell_type": "markdown",
      "metadata": {
        "id": "P3Jv7wPQbmpH"
      },
      "source": [
        "**Q:** Kako biste svojim riječima opisali ovaj fenomen, koristeći se ovim primjerom?"
      ]
    }
  ],
  "metadata": {
    "anaconda-cloud": {},
    "kernelspec": {
      "display_name": "Python 3",
      "language": "python",
      "name": "python3"
    },
    "language_info": {
      "codemirror_mode": {
        "name": "ipython",
        "version": 3
      },
      "file_extension": ".py",
      "mimetype": "text/x-python",
      "name": "python",
      "nbconvert_exporter": "python",
      "pygments_lexer": "ipython3",
      "version": "3.5.0"
    },
    "colab": {
      "name": "SU1-2021-17-18-PGM.ipynb",
      "provenance": [],
      "collapsed_sections": []
    }
  },
  "nbformat": 4,
  "nbformat_minor": 0
}